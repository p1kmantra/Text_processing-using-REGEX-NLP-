{
  "nbformat": 4,
  "nbformat_minor": 0,
  "metadata": {
    "colab": {
      "provenance": []
    },
    "kernelspec": {
      "name": "python3",
      "display_name": "Python 3"
    },
    "language_info": {
      "name": "python"
    }
  },
  "cells": [
    {
      "cell_type": "markdown",
      "source": [
        "# Text Processing For NLP with the help of Regex"
      ],
      "metadata": {
        "id": "4JNFWt2b8cKe"
      }
    },
    {
      "cell_type": "markdown",
      "source": [
        "# Regex allows us to perform various operations on text, such as searching for patterns, replacing text, and splitting strings."
      ],
      "metadata": {
        "id": "y7OrEDLi7wd4"
      }
    },
    {
      "cell_type": "markdown",
      "source": [
        "# Import the 're' Module"
      ],
      "metadata": {
        "id": "ol-GLcEoziJx"
      }
    },
    {
      "cell_type": "code",
      "source": [
        "import re"
      ],
      "metadata": {
        "id": "4qmgmWE8zlLj"
      },
      "execution_count": 1,
      "outputs": []
    },
    {
      "cell_type": "markdown",
      "source": [
        "# Sample Text"
      ],
      "metadata": {
        "id": "fomo6TO3z0qx"
      }
    },
    {
      "cell_type": "code",
      "source": [
        "text = '''Jack quickly realized that the big, lazy dog was blocking his path. The sun was setting, casting a golden hue over the quiet village.\n",
        "Suddenly, a quick brown fox darted across the road, making Jack jump back in surprise. Nearby, a wizardly figure muttered strange words,\n",
        "causing an old box to glow and hover. Vexed by the unexpected magic, Jack decided to take a different route home, thinking about the odd\n",
        "encounter all evening.'''"
      ],
      "metadata": {
        "id": "hV3quQQN0llW"
      },
      "execution_count": 19,
      "outputs": []
    },
    {
      "cell_type": "markdown",
      "source": [
        "# Basic Regex Operations"
      ],
      "metadata": {
        "id": "Yz5XtaeI0ziU"
      }
    },
    {
      "cell_type": "markdown",
      "source": [
        "# Searching for a Pattern"
      ],
      "metadata": {
        "id": "-PxS6aXl3HXl"
      }
    },
    {
      "cell_type": "code",
      "source": [
        "pattern = r\"Jack\"  # Regular expression pattern to match \"Jack\n",
        "matches = re.findall(pattern, text)\n",
        "print(\"Matches:\", matches)"
      ],
      "metadata": {
        "colab": {
          "base_uri": "https://localhost:8080/"
        },
        "id": "OZ_TUJ3p3Kf5",
        "outputId": "d03c527f-4bde-4b27-9d4e-c83ed9fe98b4"
      },
      "execution_count": 20,
      "outputs": [
        {
          "output_type": "stream",
          "name": "stdout",
          "text": [
            "Matches: ['Jack', 'Jack', 'Jack']\n"
          ]
        }
      ]
    },
    {
      "cell_type": "markdown",
      "source": [
        "# Replacing Text"
      ],
      "metadata": {
        "id": "zQ_980tb3Yib"
      }
    },
    {
      "cell_type": "code",
      "source": [
        "pattern = r\"Jack\"\n",
        "replacement = \"Pranay\"\n",
        "new_text = re.sub(pattern, replacement, text)\n",
        "print(\"New Text:\", new_text)"
      ],
      "metadata": {
        "colab": {
          "base_uri": "https://localhost:8080/"
        },
        "id": "DRnqDQVT3c7l",
        "outputId": "7e8447c5-0782-4c4e-84fc-a1a73e67f803"
      },
      "execution_count": 21,
      "outputs": [
        {
          "output_type": "stream",
          "name": "stdout",
          "text": [
            "New Text: Pranay quickly realized that the big, lazy dog was blocking his path. The sun was setting, casting a golden hue over the quiet village. \n",
            "Suddenly, a quick brown fox darted across the road, making Pranay jump back in surprise. Nearby, a wizardly figure muttered strange words, \n",
            "causing an old box to glow and hover. Vexed by the unexpected magic, Pranay decided to take a different route home, thinking about the odd \n",
            "encounter all evening.\n"
          ]
        }
      ]
    },
    {
      "cell_type": "markdown",
      "source": [
        "# Splitting Strings"
      ],
      "metadata": {
        "id": "2sz6oU-h3ppQ"
      }
    },
    {
      "cell_type": "code",
      "source": [
        "pattern = r\"\\s\"  # Split on spaces\n",
        "split_text = re.split(pattern, text)\n",
        "print(\"Split Text:\", split_text)"
      ],
      "metadata": {
        "colab": {
          "base_uri": "https://localhost:8080/"
        },
        "id": "06PgpzMc3r4k",
        "outputId": "febd6696-9cbd-4167-df45-effb239c6c48"
      },
      "execution_count": 22,
      "outputs": [
        {
          "output_type": "stream",
          "name": "stdout",
          "text": [
            "Split Text: ['Jack', 'quickly', 'realized', 'that', 'the', 'big,', 'lazy', 'dog', 'was', 'blocking', 'his', 'path.', 'The', 'sun', 'was', 'setting,', 'casting', 'a', 'golden', 'hue', 'over', 'the', 'quiet', 'village.', '', 'Suddenly,', 'a', 'quick', 'brown', 'fox', 'darted', 'across', 'the', 'road,', 'making', 'Jack', 'jump', 'back', 'in', 'surprise.', 'Nearby,', 'a', 'wizardly', 'figure', 'muttered', 'strange', 'words,', '', 'causing', 'an', 'old', 'box', 'to', 'glow', 'and', 'hover.', 'Vexed', 'by', 'the', 'unexpected', 'magic,', 'Jack', 'decided', 'to', 'take', 'a', 'different', 'route', 'home,', 'thinking', 'about', 'the', 'odd', '', 'encounter', 'all', 'evening.']\n"
          ]
        }
      ]
    },
    {
      "cell_type": "markdown",
      "source": [
        "# Character Classes and Quantifiers"
      ],
      "metadata": {
        "id": "QTvlDC_l33TA"
      }
    },
    {
      "cell_type": "markdown",
      "source": [
        "### Character Classes"
      ],
      "metadata": {
        "id": "eRPs5kai4Bn2"
      }
    },
    {
      "cell_type": "code",
      "source": [
        "pattern = r\"[aeiou]\"\n",
        "vowels = re.findall(pattern, text)\n",
        "print(\"Vowels:\", vowels)"
      ],
      "metadata": {
        "colab": {
          "base_uri": "https://localhost:8080/"
        },
        "id": "Mb0CRWef36lL",
        "outputId": "caaeb2c7-301e-47cf-8ff2-1807b3d79423"
      },
      "execution_count": 23,
      "outputs": [
        {
          "output_type": "stream",
          "name": "stdout",
          "text": [
            "Vowels: ['a', 'u', 'i', 'e', 'a', 'i', 'e', 'a', 'e', 'i', 'a', 'o', 'a', 'o', 'i', 'i', 'a', 'e', 'u', 'a', 'e', 'i', 'a', 'i', 'a', 'o', 'e', 'u', 'e', 'o', 'e', 'e', 'u', 'i', 'e', 'i', 'a', 'e', 'u', 'e', 'a', 'u', 'i', 'o', 'o', 'a', 'e', 'a', 'o', 'e', 'o', 'a', 'a', 'i', 'a', 'u', 'a', 'i', 'u', 'i', 'e', 'e', 'a', 'a', 'i', 'a', 'i', 'u', 'e', 'u', 'e', 'e', 'a', 'e', 'o', 'a', 'u', 'i', 'a', 'o', 'o', 'o', 'o', 'a', 'o', 'e', 'e', 'e', 'e', 'u', 'e', 'e', 'e', 'a', 'i', 'a', 'e', 'i', 'e', 'o', 'a', 'e', 'a', 'i', 'e', 'e', 'o', 'u', 'e', 'o', 'e', 'i', 'i', 'a', 'o', 'u', 'e', 'o', 'e', 'o', 'u', 'e', 'a', 'e', 'e', 'i']\n"
          ]
        }
      ]
    },
    {
      "cell_type": "markdown",
      "source": [
        "### Quantifiers"
      ],
      "metadata": {
        "id": "F7MLQu-M4PbG"
      }
    },
    {
      "cell_type": "code",
      "source": [
        "pattern = r\"a{10}\"  # Matches two consecutive 'a' characters\n",
        "matches = re.findall(pattern, text)\n",
        "print(\"Matches:\", matches)"
      ],
      "metadata": {
        "colab": {
          "base_uri": "https://localhost:8080/"
        },
        "id": "Wciy-vf94SPk",
        "outputId": "d4d9c820-05a7-45fc-a001-33aad87e21c6"
      },
      "execution_count": 27,
      "outputs": [
        {
          "output_type": "stream",
          "name": "stdout",
          "text": [
            "Matches: []\n"
          ]
        }
      ]
    },
    {
      "cell_type": "markdown",
      "source": [
        "# Metacharacters and Anchors"
      ],
      "metadata": {
        "id": "Vk9xR2Vx5lCI"
      }
    },
    {
      "cell_type": "markdown",
      "source": [
        "### Metacharacters"
      ],
      "metadata": {
        "id": "ggR-eg9c5pVV"
      }
    },
    {
      "cell_type": "code",
      "source": [
        "pattern = r\"\\b\\w{5}\\b\"  # Matches five-letter words\n",
        "matches = re.findall(pattern, text)\n",
        "print(\"Matches:\", matches)"
      ],
      "metadata": {
        "colab": {
          "base_uri": "https://localhost:8080/"
        },
        "id": "jX4mlGkU5vHF",
        "outputId": "c3c5d713-b715-4bd4-ec54-6a532fa05b1d"
      },
      "execution_count": 30,
      "outputs": [
        {
          "output_type": "stream",
          "name": "stdout",
          "text": [
            "Matches: ['quiet', 'quick', 'brown', 'words', 'hover', 'Vexed', 'magic', 'route', 'about']\n"
          ]
        }
      ]
    },
    {
      "cell_type": "markdown",
      "source": [
        "### Anchors"
      ],
      "metadata": {
        "id": "a6wlTWvi6EI8"
      }
    },
    {
      "cell_type": "code",
      "source": [
        "pattern = r\"^Jack\"  # Matches 'The' at the beginning of the string\n",
        "matches = re.findall(pattern, text)\n",
        "print(\"Matches:\", matches)"
      ],
      "metadata": {
        "colab": {
          "base_uri": "https://localhost:8080/"
        },
        "id": "PWBl5aD96IBn",
        "outputId": "7eca6ceb-1ef6-43a6-d5bc-008d9e3d296f"
      },
      "execution_count": 32,
      "outputs": [
        {
          "output_type": "stream",
          "name": "stdout",
          "text": [
            "Matches: ['Jack']\n"
          ]
        }
      ]
    },
    {
      "cell_type": "markdown",
      "source": [
        "# Grouping and Capturing"
      ],
      "metadata": {
        "id": "5cC_ugyR6WHP"
      }
    },
    {
      "cell_type": "code",
      "source": [
        "pattern = r\"(\\w+)\\s(\\w+)\"  # Matches two consecutive words\n",
        "matches = re.findall(pattern, text)\n",
        "print(\"Matches:\", matches)"
      ],
      "metadata": {
        "colab": {
          "base_uri": "https://localhost:8080/"
        },
        "id": "qwF-0aUV6Zua",
        "outputId": "65a2d56c-7673-467a-915a-9d4b2c50f270"
      },
      "execution_count": 33,
      "outputs": [
        {
          "output_type": "stream",
          "name": "stdout",
          "text": [
            "Matches: [('Jack', 'quickly'), ('realized', 'that'), ('the', 'big'), ('lazy', 'dog'), ('was', 'blocking'), ('his', 'path'), ('The', 'sun'), ('was', 'setting'), ('casting', 'a'), ('golden', 'hue'), ('over', 'the'), ('quiet', 'village'), ('a', 'quick'), ('brown', 'fox'), ('darted', 'across'), ('the', 'road'), ('making', 'Jack'), ('jump', 'back'), ('in', 'surprise'), ('a', 'wizardly'), ('figure', 'muttered'), ('strange', 'words'), ('causing', 'an'), ('old', 'box'), ('to', 'glow'), ('and', 'hover'), ('Vexed', 'by'), ('the', 'unexpected'), ('Jack', 'decided'), ('to', 'take'), ('a', 'different'), ('route', 'home'), ('thinking', 'about'), ('the', 'odd'), ('encounter', 'all')]\n"
          ]
        }
      ]
    },
    {
      "cell_type": "markdown",
      "source": [
        "# Using Regex for Tokenization\n",
        "Regex is also useful for tokenizing text into words or sentences."
      ],
      "metadata": {
        "id": "QuYDpd1p6pxy"
      }
    },
    {
      "cell_type": "markdown",
      "source": [
        "# Tokenizing into Words"
      ],
      "metadata": {
        "id": "VX5z965u66iQ"
      }
    },
    {
      "cell_type": "code",
      "source": [
        "pattern = r\"\\s\"  # Split on spaces\n",
        "words = re.split(pattern, text)\n",
        "print(\"Words:\", words)"
      ],
      "metadata": {
        "colab": {
          "base_uri": "https://localhost:8080/"
        },
        "id": "C8C0MtHg6vId",
        "outputId": "16adc0bb-ddbd-40c2-9dbf-52325bc9d49d"
      },
      "execution_count": 34,
      "outputs": [
        {
          "output_type": "stream",
          "name": "stdout",
          "text": [
            "Words: ['Jack', 'quickly', 'realized', 'that', 'the', 'big,', 'lazy', 'dog', 'was', 'blocking', 'his', 'path.', 'The', 'sun', 'was', 'setting,', 'casting', 'a', 'golden', 'hue', 'over', 'the', 'quiet', 'village.', '', 'Suddenly,', 'a', 'quick', 'brown', 'fox', 'darted', 'across', 'the', 'road,', 'making', 'Jack', 'jump', 'back', 'in', 'surprise.', 'Nearby,', 'a', 'wizardly', 'figure', 'muttered', 'strange', 'words,', '', 'causing', 'an', 'old', 'box', 'to', 'glow', 'and', 'hover.', 'Vexed', 'by', 'the', 'unexpected', 'magic,', 'Jack', 'decided', 'to', 'take', 'a', 'different', 'route', 'home,', 'thinking', 'about', 'the', 'odd', '', 'encounter', 'all', 'evening.']\n"
          ]
        }
      ]
    },
    {
      "cell_type": "markdown",
      "source": [
        "# Tokenizing into Sentences"
      ],
      "metadata": {
        "id": "GNJDNPxr7NeS"
      }
    },
    {
      "cell_type": "code",
      "source": [
        "pattern = r\"\\.\\s\"  # Split after periods followed by a space\n",
        "sentences = re.split(pattern, text)\n",
        "print(\"Sentences:\", sentences)"
      ],
      "metadata": {
        "colab": {
          "base_uri": "https://localhost:8080/"
        },
        "id": "o7jeBpwQ7Q7p",
        "outputId": "400bff5c-d21a-4557-ddf0-82bc89d3c717"
      },
      "execution_count": 35,
      "outputs": [
        {
          "output_type": "stream",
          "name": "stdout",
          "text": [
            "Sentences: ['Jack quickly realized that the big, lazy dog was blocking his path', 'The sun was setting, casting a golden hue over the quiet village', '\\nSuddenly, a quick brown fox darted across the road, making Jack jump back in surprise', 'Nearby, a wizardly figure muttered strange words, \\ncausing an old box to glow and hover', 'Vexed by the unexpected magic, Jack decided to take a different route home, thinking about the odd \\nencounter all evening.']\n"
          ]
        }
      ]
    },
    {
      "cell_type": "code",
      "source": [],
      "metadata": {
        "id": "Mg39YCK7ATmJ"
      },
      "execution_count": null,
      "outputs": []
    }
  ]
}